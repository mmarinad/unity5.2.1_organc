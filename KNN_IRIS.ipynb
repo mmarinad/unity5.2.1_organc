{
  "nbformat": 4,
  "nbformat_minor": 0,
  "metadata": {
    "colab": {
      "name": "KNN_IRIS.ipynb",
      "provenance": [],
      "collapsed_sections": [],
      "include_colab_link": true
    },
    "kernelspec": {
      "name": "python3",
      "display_name": "Python 3"
    }
  },
  "cells": [
    {
      "cell_type": "markdown",
      "metadata": {
        "id": "view-in-github",
        "colab_type": "text"
      },
      "source": [
        "<a href=\"https://colab.research.google.com/github/mmarinad/unity5.2.1_organc/blob/master/KNN_IRIS.ipynb\" target=\"_parent\"><img src=\"https://colab.research.google.com/assets/colab-badge.svg\" alt=\"Open In Colab\"/></a>"
      ]
    },
    {
      "cell_type": "code",
      "metadata": {
        "id": "zPXcKWb98X0e",
        "colab_type": "code",
        "colab": {}
      },
      "source": [
        "#Kolesnikova\n",
        "import numpy as np\n",
        "import pandas as pd\n",
        "from sklearn.model_selection import train_test_split\n",
        "import matplotlib.pyplot as plt"
      ],
      "execution_count": 0,
      "outputs": []
    },
    {
      "cell_type": "markdown",
      "metadata": {
        "id": "jLGVrJxaGAb6",
        "colab_type": "text"
      },
      "source": [
        "**IRIS dataset**\n",
        "\n",
        "---\n",
        "\n",
        "\n",
        "\n",
        "---\n",
        "\n"
      ]
    },
    {
      "cell_type": "code",
      "metadata": {
        "id": "ATYLnEV6DXeC",
        "colab_type": "code",
        "colab": {}
      },
      "source": [
        "from sklearn import datasets"
      ],
      "execution_count": 0,
      "outputs": []
    },
    {
      "cell_type": "code",
      "metadata": {
        "id": "gIs50yPgvtbR",
        "colab_type": "code",
        "outputId": "4293729f-14ae-485d-979c-3ed8eef1b9e2",
        "colab": {
          "base_uri": "https://localhost:8080/",
          "height": 34
        }
      },
      "source": [
        "#load dataset\n",
        "iris = datasets.load_iris()\n",
        "iris_data = iris.data\n",
        "iris_labels = iris.target\n",
        "\n",
        "#dividng on test and train data\n",
        "from sklearn.model_selection import train_test_split\n",
        "X_train, X_test, y_train, y_test = train_test_split(iris_data, iris_labels, test_size=0.2, random_state=0)\n",
        "X_test.shape\n",
        "X_train.shape\n"
      ],
      "execution_count": 3,
      "outputs": [
        {
          "output_type": "execute_result",
          "data": {
            "text/plain": [
              "(120, 4)"
            ]
          },
          "metadata": {
            "tags": []
          },
          "execution_count": 3
        }
      ]
    },
    {
      "cell_type": "code",
      "metadata": {
        "id": "Y5AWTeChv_s6",
        "colab_type": "code",
        "colab": {}
      },
      "source": [
        "#calculate the Euclidean distance between train point and test point \n",
        "def distance(x1, x2):\n",
        "    dist = 0.0\n",
        "    for i in range(len(x1)):\n",
        "        dist += pow((x1[i] - x2[i]), 2)\n",
        "    return np.sqrt(dist)\n"
      ],
      "execution_count": 0,
      "outputs": []
    },
    {
      "cell_type": "code",
      "metadata": {
        "id": "atH_ttVfv_vq",
        "colab_type": "code",
        "colab": {}
      },
      "source": [
        "#generate the list of nearest neighbors for test set\n",
        "def get_neighbors(learnset, labels, testset, k, distance=distance):\n",
        "  distances = []\n",
        "  for index in range(len(learnset)):\n",
        "    dist = distance(testset, learnset[index])\n",
        "    distances.append((learnset[index], dist, labels[index]))\n",
        "  distances.sort(key=lambda x: x[1])\n",
        "  neighbors = distances[:k]\n",
        "  return neighbors\n",
        "\n",
        "#neigbors consist of index from training set, distance between train and test and label"
      ],
      "execution_count": 0,
      "outputs": []
    },
    {
      "cell_type": "code",
      "metadata": {
        "id": "EV2OrIp6v_xk",
        "colab_type": "code",
        "outputId": "c11586b9-0971-45a3-ce71-36a6e3c06739",
        "colab": {
          "base_uri": "https://localhost:8080/",
          "height": 125
        }
      },
      "source": [
        "\n",
        "for i in range(5):\n",
        "  neighbors = get_neighbors(X_train, y_train, X_test[i], 3, distance=distance)\n",
        "  print(i, X_test[i], y_test[i], neighbors)\n",
        "#index 0, tested data 5.7......1.3 tested label 2\n"
      ],
      "execution_count": 6,
      "outputs": [
        {
          "output_type": "stream",
          "text": [
            "0 [5.8 2.8 5.1 2.4] 2 [(array([5.8, 2.7, 5.1, 1.9]), 0.5099019513592784, 2), (array([5.8, 2.7, 5.1, 1.9]), 0.5099019513592784, 2), (array([5.7, 2.5, 5. , 2. ]), 0.5196152422706629, 2)]\n",
            "1 [6.  2.2 4.  1. ] 1 [(array([5.8, 2.6, 4. , 1.2]), 0.4898979485566356, 1), (array([5.6, 2.5, 3.9, 1.1]), 0.5196152422706634, 1), (array([5.8, 2.7, 4.1, 1. ]), 0.5477225575051662, 1)]\n",
            "2 [5.5 4.2 1.4 0.2] 0 [(array([5.2, 4.1, 1.5, 0.1]), 0.3464101615137755, 0), (array([5.7, 4.4, 1.5, 0.4]), 0.3605551275463992, 0), (array([5.8, 4. , 1.2, 0.2]), 0.412310562561766, 0)]\n",
            "3 [7.3 2.9 6.3 1.8] 2 [(array([7.4, 2.8, 6.1, 1.9]), 0.26457513110645936, 2), (array([7.2, 3.2, 6. , 1.8]), 0.43588989435406733, 2), (array([7.6, 3. , 6.6, 2.1]), 0.5291502622129179, 2)]\n",
            "4 [5.  3.4 1.5 0.2] 0 [(array([5.1, 3.4, 1.5, 0.2]), 0.09999999999999964, 0), (array([5. , 3.3, 1.4, 0.2]), 0.14142135623730964, 0), (array([5.1, 3.5, 1.4, 0.2]), 0.17320508075688762, 0)]\n"
          ],
          "name": "stdout"
        }
      ]
    },
    {
      "cell_type": "code",
      "metadata": {
        "id": "-yO1OhPiv_6i",
        "colab_type": "code",
        "colab": {}
      },
      "source": [
        "#returns the class name and the probability for this class:\n",
        "def vote_prob(neighbors):\n",
        "  class_counter = Counter() #to count the quantity of the classes inside of a list\n",
        "  for neighbor in neighbors:\n",
        "    class_counter[neighbor[2]] += 1\n",
        "  labels, votes = zip(*class_counter.most_common())\n",
        "  top = class_counter.most_common(1)[0][0]\n",
        "  top_vote  = class_counter.most_common(1)[0][1]\n",
        "  return top, top_vote /sum(votes) #returns the most common class"
      ],
      "execution_count": 0,
      "outputs": []
    },
    {
      "cell_type": "code",
      "metadata": {
        "id": "f8oB7i6Rv_-4",
        "colab_type": "code",
        "colab": {}
      },
      "source": [
        "#for visualizing of test data\n",
        "X = []\n",
        "for i_class in range(3): #3classes\n",
        "  X.append([[], [], []])\n",
        "  for i in range(len(X_test)):\n",
        "    if y_test[i] == i_class:\n",
        "      X[i_class][0].append(X_test[i][0])\n",
        "      X[i_class][1].append(X_test[i][1])\n",
        "      X[i_class][2].append(sum(X_test[i][2:]))"
      ],
      "execution_count": 0,
      "outputs": []
    },
    {
      "cell_type": "code",
      "metadata": {
        "id": "ctYq6VTCv_zu",
        "colab_type": "code",
        "outputId": "52031177-49a9-4e46-f279-393c9d7e3143",
        "colab": {
          "base_uri": "https://localhost:8080/",
          "height": 264
        }
      },
      "source": [
        "plt.style.use('seaborn-whitegrid')\n",
        "#train data in X_learn\n",
        "\n",
        "X_learn = []\n",
        "for i_class in range(3):\n",
        "    X_learn.append([[], [], []])\n",
        "    for i in range(len(X_train)):\n",
        "        if y_train[i] == i_class:\n",
        "            X_learn[i_class][0].append(X_train[i][0])\n",
        "            X_learn[i_class][1].append(X_train[i][1])\n",
        "            X_learn[i_class][2].append(sum(X_train[i][2:]))\n",
        "colours = (\"r\", \"g\", \"y\")\n",
        "fig = plt.figure()\n",
        "#plt.figure(figsize=(10,10))\n",
        "for i_class in range(3):\n",
        "  plt.scatter(X_learn[i_class][0], X_learn[i_class][1], X_learn[i_class][2],c=colours[i_class])\n",
        "  plt.scatter(X[i_class][0], X[i_class][1], X[i_class][2], c=colours[i_class], edgecolor='k') \n",
        "\n",
        "plt.show()\n",
        "#train set has edges"
      ],
      "execution_count": 41,
      "outputs": [
        {
          "output_type": "display_data",
          "data": {
            "image/png": "[encoded data removed]",
            "text/plain": [
              "<Figure size 432x288 with 1 Axes>"
            ]
          },
          "metadata": {
            "tags": []
          }
        }
      ]
    },
    {
      "cell_type": "code",
      "metadata": {
        "id": "W5vfoCIXv_qw",
        "colab_type": "code",
        "colab": {}
      },
      "source": [
        ""
      ],
      "execution_count": 0,
      "outputs": []
    },
    {
      "cell_type": "code",
      "metadata": {
        "id": "JTE8NbX7BA3W",
        "colab_type": "code",
        "colab": {}
      },
      "source": [
        ""
      ],
      "execution_count": 0,
      "outputs": []
    },
    {
      "cell_type": "code",
      "metadata": {
        "id": "Px61p9aIBA5u",
        "colab_type": "code",
        "colab": {}
      },
      "source": [
        ""
      ],
      "execution_count": 0,
      "outputs": []
    },
    {
      "cell_type": "code",
      "metadata": {
        "id": "RjnZW5XCBA9U",
        "colab_type": "code",
        "colab": {}
      },
      "source": [
        ""
      ],
      "execution_count": 0,
      "outputs": []
    },
    {
      "cell_type": "code",
      "metadata": {
        "id": "g6QI6B2KBBOu",
        "colab_type": "code",
        "colab": {}
      },
      "source": [
        ""
      ],
      "execution_count": 0,
      "outputs": []
    },
    {
      "cell_type": "code",
      "metadata": {
        "id": "Wn0FwGIlBA1e",
        "colab_type": "code",
        "colab": {}
      },
      "source": [
        ""
      ],
      "execution_count": 0,
      "outputs": []
    },
    {
      "cell_type": "code",
      "metadata": {
        "id": "Qnb4NiPuGSL6",
        "colab_type": "code",
        "colab": {}
      },
      "source": [
        ""
      ],
      "execution_count": 0,
      "outputs": []
    },
    {
      "cell_type": "code",
      "metadata": {
        "id": "asC4nv8qv-gt",
        "colab_type": "code",
        "colab": {}
      },
      "source": [
        ""
      ],
      "execution_count": 0,
      "outputs": []
    },
    {
      "cell_type": "code",
      "metadata": {
        "id": "_KOLyNwSv-kA",
        "colab_type": "code",
        "colab": {}
      },
      "source": [
        ""
      ],
      "execution_count": 0,
      "outputs": []
    },
    {
      "cell_type": "code",
      "metadata": {
        "id": "6E8rhQEtv-eN",
        "colab_type": "code",
        "colab": {}
      },
      "source": [
        ""
      ],
      "execution_count": 0,
      "outputs": []
    },
    {
      "cell_type": "code",
      "metadata": {
        "id": "-0xRmTLJGVCX",
        "colab_type": "code",
        "colab": {}
      },
      "source": [
        ""
      ],
      "execution_count": 0,
      "outputs": []
    },
    {
      "cell_type": "code",
      "metadata": {
        "id": "mw9P6VpKGXGQ",
        "colab_type": "code",
        "colab": {}
      },
      "source": [
        ""
      ],
      "execution_count": 0,
      "outputs": []
    },
    {
      "cell_type": "code",
      "metadata": {
        "id": "7OJn2MIgGjoJ",
        "colab_type": "code",
        "colab": {}
      },
      "source": [
        ""
      ],
      "execution_count": 0,
      "outputs": []
    },
    {
      "cell_type": "code",
      "metadata": {
        "id": "nKB2-Y-hGamg",
        "colab_type": "code",
        "colab": {}
      },
      "source": [
        ""
      ],
      "execution_count": 0,
      "outputs": []
    },
    {
      "cell_type": "code",
      "metadata": {
        "id": "CPSoqDWxGdvE",
        "colab_type": "code",
        "colab": {}
      },
      "source": [
        ""
      ],
      "execution_count": 0,
      "outputs": []
    },
    {
      "cell_type": "code",
      "metadata": {
        "id": "f5HdC9h3Otd6",
        "colab_type": "code",
        "colab": {}
      },
      "source": [
        ""
      ],
      "execution_count": 0,
      "outputs": []
    },
    {
      "cell_type": "code",
      "metadata": {
        "id": "zdLAAM7rOvNg",
        "colab_type": "code",
        "colab": {}
      },
      "source": [
        ""
      ],
      "execution_count": 0,
      "outputs": []
    },
    {
      "cell_type": "code",
      "metadata": {
        "id": "BDmZYf2KO4MQ",
        "colab_type": "code",
        "colab": {}
      },
      "source": [
        ""
      ],
      "execution_count": 0,
      "outputs": []
    },
    {
      "cell_type": "code",
      "metadata": {
        "id": "HjAtKRocPH6R",
        "colab_type": "code",
        "colab": {}
      },
      "source": [
        ""
      ],
      "execution_count": 0,
      "outputs": []
    }
  ]
}